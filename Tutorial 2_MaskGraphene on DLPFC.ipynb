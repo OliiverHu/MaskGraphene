{
 "cells": [
  {
   "cell_type": "markdown",
   "metadata": {},
   "source": [
    "# Tutorial 2: Integrate DLPFC data with MaskGraphene"
   ]
  },
  {
   "cell_type": "markdown",
   "metadata": {},
   "source": [
    "In this tutorial, we show how to use MG to integrate DLPFC data. As an example, we analyze the 151507/151508 sample pair of the dorsolateral prefrontal cortex (DLPFC) dataset. \n",
    "\n",
    "We acquired the data from the spatialLIBD webpage, including manual annotations. Before running the model, please download the input data via [zenodo link]()"
   ]
  },
  {
   "cell_type": "markdown",
   "metadata": {},
   "source": [
    "### Loading packages"
   ]
  },
  {
   "cell_type": "code",
   "execution_count": 3,
   "metadata": {},
   "outputs": [],
   "source": [
    "import logging\n",
    "import numpy as np\n",
    "from tqdm import tqdm\n",
    "import torch\n",
    "import pickle\n",
    "import wandb\n",
    "\n",
    "from utils import (\n",
    "    build_args_ST,\n",
    "    create_optimizer,\n",
    "    set_random_seed,\n",
    "    get_current_lr,\n",
    ")\n",
    "from datasets.data_proc import load_ST_dataset_hard, load_ST_dataset_hard_erase\n",
    "from datasets.st_loading_utils import create_dictionary_otn, visualization_umap_spatial, create_dictionary_mnn, cal_layer_based_alignment_result, cal_layer_based_alignment_result_mhypo\n",
    "from models import build_model_ST\n",
    "import os\n",
    "import scanpy as sc\n",
    "import sklearn.metrics.pairwise\n",
    "\n",
    "from maskgraphene_main import main\n"
   ]
  },
  {
   "cell_type": "markdown",
   "metadata": {},
   "source": [
    "### HP setup"
   ]
  },
  {
   "cell_type": "code",
   "execution_count": 5,
   "metadata": {},
   "outputs": [],
   "source": [
    "args = build_args_ST()\n",
    "args.max_epoch=2000\n",
    "args.max_epoch_triplet=500\n",
    "args.section_ids=\"151507,151508\"\n",
    "args.num_class=7\n",
    "args.num_hidden=\"512,32\"\n",
    "args.alpha_l=1\n",
    "args.lam=1 \n",
    "args.loss_fn=\"sce\" \n",
    "args.mask_rate=0.5 \n",
    "args.in_drop=0 \n",
    "args.attn_drop=0 \n",
    "args.remask_rate=0.1\n",
    "args.seeds=[2023] \n",
    "args.num_remasking=1 \n",
    "args.hvgs=3000 \n",
    "args.dataset=\"DLPFC\" \n",
    "args.consecutive_prior=1 \n",
    "args.lr=0.001\n",
    "\n",
    "#### remember to change these paths to your data path/link path\n",
    "args.st_data_dir=\"/home/yunfei/spatial_benchmarking/benchmarking_data/DLPFC12\"\n",
    "args.pi_dir=\"/home/yunfei/spatial_dl_integration/MaskGraphene/PI\""
   ]
  },
  {
   "cell_type": "markdown",
   "metadata": {},
   "source": [
    "### MG training"
   ]
  },
  {
   "cell_type": "code",
   "execution_count": null,
   "metadata": {},
   "outputs": [],
   "source": [
    "out = main(args)"
   ]
  },
  {
   "cell_type": "code",
   "execution_count": null,
   "metadata": {},
   "outputs": [],
   "source": []
  }
 ],
 "metadata": {
  "kernelspec": {
   "display_name": "MG",
   "language": "python",
   "name": "python3"
  },
  "language_info": {
   "codemirror_mode": {
    "name": "ipython",
    "version": 3
   },
   "file_extension": ".py",
   "mimetype": "text/x-python",
   "name": "python",
   "nbconvert_exporter": "python",
   "pygments_lexer": "ipython3",
   "version": "3.9.18"
  }
 },
 "nbformat": 4,
 "nbformat_minor": 2
}
