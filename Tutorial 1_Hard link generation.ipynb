{
 "cells": [
  {
   "cell_type": "markdown",
   "metadata": {},
   "source": [
    "# Tutorial 1: Generate hard-links for consecutive ST slices"
   ]
  },
  {
   "cell_type": "markdown",
   "metadata": {},
   "source": [
    "### import necessary dependencies"
   ]
  },
  {
   "cell_type": "code",
   "execution_count": 1,
   "metadata": {},
   "outputs": [],
   "source": [
    "from datasets.st_loading_utils import load_DLPFC, create_dictionary_mnn, load_mHypothalamus\n",
    "from datasets.data_proc import Cal_Spatial_Net\n",
    "import scipy\n",
    "import os\n",
    "import pickle\n",
    "\n",
    "from utils import (\n",
    "    build_args_ST,\n",
    "    create_optimizer,\n",
    "    set_random_seed\n",
    ")\n",
    "\n",
    "from localMG_main import localMG"
   ]
  },
  {
   "cell_type": "markdown",
   "metadata": {},
   "source": [
    "### HP setup"
   ]
  },
  {
   "cell_type": "code",
   "execution_count": 2,
   "metadata": {},
   "outputs": [],
   "source": [
    "args = build_args_ST()\n",
    "args.max_epoch=2000\n",
    "args.max_epoch_triplet=500\n",
    "args.section_ids=\"151507,151508\"\n",
    "args.num_class=7\n",
    "args.num_hidden=\"512,32\"\n",
    "args.alpha_l=1\n",
    "args.lam=1 \n",
    "args.loss_fn=\"sce\" \n",
    "args.mask_rate=0.5 \n",
    "args.in_drop=0 \n",
    "args.attn_drop=0 \n",
    "args.remask_rate=0.1\n",
    "args.seeds=[2023] \n",
    "args.num_remasking=1 \n",
    "args.hvgs=3000 \n",
    "args.dataset=\"DLPFC\" \n",
    "args.consecutive_prior=1 \n",
    "args.lr=0.001\n",
    "\n",
    "#### remember to change this to your data path\n",
    "args.st_data_dir=\"path/to/stdata\"\n"
   ]
  },
  {
   "cell_type": "code",
   "execution_count": 3,
   "metadata": {},
   "outputs": [
    {
     "data": {
      "text/plain": [
       "Namespace(seeds=[2023], dataset='DLPFC', exp_fig_dir='./', h5ad_save_dir='./', st_data_dir='/home/yunfei/spatial_benchmarking/benchmarking_data/DLPFC12', pi_dir='./', consecutive_prior=1, section_ids='151507,151508', num_class=7, hvgs=3000, device=3, max_epoch=2000, max_epoch_triplet=500, warmup_steps=-1, num_heads=1, num_out_heads=1, num_layers=2, num_dec_layers=2, num_remasking=1, num_hidden='512,32', residual=False, in_drop=0, attn_drop=0, norm=None, lr=0.001, weight_decay=0, negative_slope=0.2, activation='elu', mask_rate=0.5, remask_rate=0.1, remask_method='random', mask_type='mask', mask_method='random', drop_edge_rate=0.0, encoder='gat', decoder='gat', loss_fn='sce', alpha_l=1, optimizer='adam', linear_prob=False, no_pretrain=False, checkpoint_path=None, use_cfg=False, logging=False, scheduler=False, batch_size=512, sampling_method='saint', label_rate=1.0, lam=1, delayed_ema_epoch=0, replace_rate=0.0, momentum=0.996, load_model=False)"
      ]
     },
     "execution_count": 3,
     "metadata": {},
     "output_type": "execute_result"
    }
   ],
   "source": [
    "args"
   ]
  },
  {
   "cell_type": "markdown",
   "metadata": {},
   "source": [
    "### Generate Hard-links"
   ]
  },
  {
   "cell_type": "code",
   "execution_count": null,
   "metadata": {},
   "outputs": [],
   "source": [
    "pi, Batch_list = localMG(args)"
   ]
  },
  {
   "cell_type": "markdown",
   "metadata": {},
   "source": [
    "### save/load Hard-links"
   ]
  },
  {
   "cell_type": "code",
   "execution_count": null,
   "metadata": {},
   "outputs": [],
   "source": [
    "S = scipy.sparse.csr_matrix(pi)\n",
    "file = open(os.path.join(args.save_pi_dir, \"pi_151507_151508.pickle\"),'wb')\n",
    "pickle.dump(S, file)\n",
    "\n",
    "\"\"\"\n",
    "file = open(\"pi_151507_151508.pickle\",'rb') \n",
    "S = pickle.load(file)\n",
    "S.toarray()\n",
    "\n",
    "to retrieve from saved pi file\n",
    "\"\"\""
   ]
  }
 ],
 "metadata": {
  "kernelspec": {
   "display_name": "MG",
   "language": "python",
   "name": "python3"
  },
  "language_info": {
   "codemirror_mode": {
    "name": "ipython",
    "version": 3
   },
   "file_extension": ".py",
   "mimetype": "text/x-python",
   "name": "python",
   "nbconvert_exporter": "python",
   "pygments_lexer": "ipython3",
   "version": "3.9.18"
  }
 },
 "nbformat": 4,
 "nbformat_minor": 2
}
