{
 "cells": [
  {
   "cell_type": "markdown",
   "metadata": {},
   "source": [
    "# Tutorial 3: Integrate MHypo data with MaskGraphene"
   ]
  },
  {
   "cell_type": "markdown",
   "metadata": {},
   "source": [
    "In this tutorial, we show how to use MG to integrate Mouse Hypothalamus data. As an example, we analyze the -0.04/-0.09 sample pair of the MHypo dataset. \n",
    "\n",
    "Before running the model, please download the input data via [zenodo link]()"
   ]
  },
  {
   "cell_type": "markdown",
   "metadata": {},
   "source": [
    "### Loading packages"
   ]
  },
  {
   "cell_type": "code",
   "execution_count": 1,
   "metadata": {},
   "outputs": [
    {
     "name": "stderr",
     "output_type": "stream",
     "text": [
      "2024-02-22 19:18:16,639 - INFO - Enabling RDKit 2022.09.5 jupyter extensions\n"
     ]
    }
   ],
   "source": [
    "import logging\n",
    "import numpy as np\n",
    "from tqdm import tqdm\n",
    "import torch\n",
    "import pickle\n",
    "import wandb\n",
    "\n",
    "from utils import (\n",
    "    build_args_ST,\n",
    "    create_optimizer,\n",
    "    set_random_seed,\n",
    "    get_current_lr,\n",
    ")\n",
    "from datasets.data_proc import load_ST_dataset_hard, load_ST_dataset_hard_erase\n",
    "from datasets.st_loading_utils import create_dictionary_otn, visualization_umap_spatial, create_dictionary_mnn, cal_layer_based_alignment_result, cal_layer_based_alignment_result_mhypo\n",
    "from models import build_model_ST\n",
    "import os\n",
    "import scanpy as sc\n",
    "import sklearn.metrics.pairwise\n",
    "\n",
    "from maskgraphene_main import main\n"
   ]
  }
 ],
 "metadata": {
  "kernelspec": {
   "display_name": "MG",
   "language": "python",
   "name": "python3"
  },
  "language_info": {
   "codemirror_mode": {
    "name": "ipython",
    "version": 3
   },
   "file_extension": ".py",
   "mimetype": "text/x-python",
   "name": "python",
   "nbconvert_exporter": "python",
   "pygments_lexer": "ipython3",
   "version": "3.9.18"
  }
 },
 "nbformat": 4,
 "nbformat_minor": 2
}
